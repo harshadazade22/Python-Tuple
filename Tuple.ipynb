{
 "cells": [
  {
   "cell_type": "markdown",
   "id": "dd031e97",
   "metadata": {},
   "source": [
    "# Tuple"
   ]
  },
  {
   "cell_type": "code",
   "execution_count": 4,
   "id": "2b88f631",
   "metadata": {},
   "outputs": [
    {
     "name": "stdout",
     "output_type": "stream",
     "text": [
      "('apple', 'banana', 'kiwi')\n"
     ]
    }
   ],
   "source": [
    "tuple_1=(\"apple\",\"banana\",\"kiwi\")\n",
    "print(tuple_1)"
   ]
  },
  {
   "cell_type": "code",
   "execution_count": 5,
   "id": "dea0846c",
   "metadata": {},
   "outputs": [
    {
     "name": "stdout",
     "output_type": "stream",
     "text": [
      "7\n"
     ]
    }
   ],
   "source": [
    "tuple_2=(1,2,3,4,5,\"banana\",True)\n",
    "print(len(tuple_2))"
   ]
  },
  {
   "cell_type": "code",
   "execution_count": 6,
   "id": "9ec47ab0",
   "metadata": {},
   "outputs": [
    {
     "name": "stdout",
     "output_type": "stream",
     "text": [
      "(True, 1, 4, 'ipcs', 'global', False)\n",
      "6\n"
     ]
    }
   ],
   "source": [
    "tuple_3=(True,1,4,\"ipcs\",\"global\",False)\n",
    "print(tuple_3)\n",
    "print(len(tuple_3))"
   ]
  },
  {
   "cell_type": "markdown",
   "id": "4cf5cd5b",
   "metadata": {},
   "source": [
    "# Access Tuple Items"
   ]
  },
  {
   "cell_type": "code",
   "execution_count": 8,
   "id": "f75d3da1",
   "metadata": {},
   "outputs": [
    {
     "name": "stdout",
     "output_type": "stream",
     "text": [
      "1000\n",
      "apple\n",
      "True\n",
      "cherry\n",
      "1\n",
      "1\n"
     ]
    }
   ],
   "source": [
    "my_tuple=(\"apple\",\"app\",1,1000,True,\"ipcs\",\"cherry\")\n",
    "print(my_tuple[3])\n",
    "print(my_tuple[0])\n",
    "print(my_tuple[-3])\n",
    "print(my_tuple[6])\n",
    "print(my_tuple[2])\n",
    "print(my_tuple[-5])"
   ]
  },
  {
   "cell_type": "markdown",
   "id": "d59a036a",
   "metadata": {},
   "source": [
    "# Range of values"
   ]
  },
  {
   "cell_type": "code",
   "execution_count": 13,
   "id": "acdaea9a",
   "metadata": {},
   "outputs": [
    {
     "name": "stdout",
     "output_type": "stream",
     "text": [
      "('c++', 'data science', 'dbms')\n",
      "('java', 'python', 'c++', 'data science', 'dbms')\n",
      "('data science', 'dbms')\n",
      "('python', 'c++', 'data science')\n"
     ]
    }
   ],
   "source": [
    "tuple01=(\"java\",\"python\",\"c++\",\"data science\",\"dbms\")\n",
    "print(tuple01[2:5])\n",
    "print(tuple01[0:5])\n",
    "print(tuple01[3:5])\n",
    "print(tuple01[1:4])"
   ]
  },
  {
   "cell_type": "markdown",
   "id": "ae62516b",
   "metadata": {},
   "source": [
    "# when statring value is not specified"
   ]
  },
  {
   "cell_type": "code",
   "execution_count": 15,
   "id": "1b1037df",
   "metadata": {},
   "outputs": [
    {
     "name": "stdout",
     "output_type": "stream",
     "text": [
      "(10, True, 'pink', 90, False)\n",
      "('pink', 90, False, 'black')\n",
      "(10, True)\n",
      "(10, True, 'pink', 90)\n",
      "(True, 'pink', 90, False, 'black')\n"
     ]
    }
   ],
   "source": [
    "tuple_t=(10,True,\"pink\",90,False,\"black\")\n",
    "print(tuple_t[:5])\n",
    "print(tuple_t[2:])\n",
    "print(tuple_t[:2])\n",
    "print(tuple_t[:4])\n",
    "print(tuple_t[1:])"
   ]
  },
  {
   "cell_type": "markdown",
   "id": "e92fa014",
   "metadata": {},
   "source": [
    "# Negative range"
   ]
  },
  {
   "cell_type": "code",
   "execution_count": 20,
   "id": "20da2e9d",
   "metadata": {},
   "outputs": [
    {
     "name": "stdout",
     "output_type": "stream",
     "text": [
      "True\n",
      "(True,)\n",
      "('i', 'e', True, 8, 5, 1)\n",
      "(5, 1)\n"
     ]
    }
   ],
   "source": [
    "tuuple_1=(\"t\",1,5,8,True,\"e\",\"i\")\n",
    "print(tuuple_1[-3])\n",
    "print(tuuple_1[-3:-4:-1])\n",
    "print(tuuple_1[-1:-7:-1])\n",
    "print(tuuple_1[-5:-7:-1])"
   ]
  },
  {
   "cell_type": "markdown",
   "id": "90fefc72",
   "metadata": {},
   "source": [
    "# Change tuple values"
   ]
  },
  {
   "cell_type": "code",
   "execution_count": 24,
   "id": "2662b0b1",
   "metadata": {},
   "outputs": [
    {
     "name": "stdout",
     "output_type": "stream",
     "text": [
      "('pink', 'black', 'yellow', 'white')\n",
      "('pink', 'black', 'blue', 'green')\n"
     ]
    }
   ],
   "source": [
    "x1=(\"pink\",\"black\",\"yellow\",\"white\")\n",
    "x2=list(x1)\n",
    "print(x1)\n",
    "x2[3]=\"green\"\n",
    "x2[2]=\"blue\"\n",
    "x1=tuple(x2)\n",
    "print(x1)"
   ]
  },
  {
   "cell_type": "markdown",
   "id": "a6211cc4",
   "metadata": {},
   "source": [
    "# Adding items"
   ]
  },
  {
   "cell_type": "code",
   "execution_count": 26,
   "id": "23eac437",
   "metadata": {},
   "outputs": [
    {
     "name": "stdout",
     "output_type": "stream",
     "text": [
      "('python', 1, 2, 99, True, False, 65, 'developer')\n"
     ]
    }
   ],
   "source": [
    "t1=(\"python\",1,2,99,True)\n",
    "t2=list(t1)\n",
    "t2.append(False)\n",
    "t2.append(65)\n",
    "t2.append(\"developer\")\n",
    "t1=tuple(t2)\n",
    "print(t1)"
   ]
  },
  {
   "cell_type": "markdown",
   "id": "66fadf45",
   "metadata": {},
   "source": [
    "# Remove items"
   ]
  },
  {
   "cell_type": "code",
   "execution_count": 27,
   "id": "01ea666b",
   "metadata": {},
   "outputs": [
    {
     "name": "stdout",
     "output_type": "stream",
     "text": [
      "('python', 22, 74, 98, True, False, 78)\n",
      "('python', 22, 74, False)\n"
     ]
    }
   ],
   "source": [
    "t_1=(\"python\",22,74,98,True,False,78)\n",
    "print(t_1)\n",
    "t_2=list(t_1)\n",
    "t_2.remove(98)\n",
    "t_2.remove(True)\n",
    "t_2.remove(78)\n",
    "t_1=tuple(t_2)\n",
    "print(t_1)"
   ]
  },
  {
   "cell_type": "markdown",
   "id": "66566118",
   "metadata": {},
   "source": [
    "# To delete the tuple completely\n"
   ]
  },
  {
   "cell_type": "code",
   "execution_count": 28,
   "id": "c4a6155d",
   "metadata": {},
   "outputs": [
    {
     "name": "stdout",
     "output_type": "stream",
     "text": [
      "('l', 3, 7, 9, 0, 'm')\n"
     ]
    },
    {
     "ename": "NameError",
     "evalue": "name 'tuple_1' is not defined",
     "output_type": "error",
     "traceback": [
      "\u001b[1;31m---------------------------------------------------------------------------\u001b[0m",
      "\u001b[1;31mNameError\u001b[0m                                 Traceback (most recent call last)",
      "Cell \u001b[1;32mIn[28], line 4\u001b[0m\n\u001b[0;32m      2\u001b[0m \u001b[38;5;28mprint\u001b[39m(tuple_1)\n\u001b[0;32m      3\u001b[0m \u001b[38;5;28;01mdel\u001b[39;00m tuple_1\n\u001b[1;32m----> 4\u001b[0m \u001b[38;5;28mprint\u001b[39m(tuple_1)\n",
      "\u001b[1;31mNameError\u001b[0m: name 'tuple_1' is not defined"
     ]
    }
   ],
   "source": [
    "tuple_1=(\"l\",3,7,9,0,\"m\")\n",
    "print(tuple_1)\n",
    "del tuple_1\n",
    "print(tuple_1)"
   ]
  },
  {
   "cell_type": "markdown",
   "id": "169f8c96",
   "metadata": {},
   "source": [
    "# unpacking the tuple"
   ]
  },
  {
   "cell_type": "code",
   "execution_count": 29,
   "id": "95606952",
   "metadata": {},
   "outputs": [
    {
     "name": "stdout",
     "output_type": "stream",
     "text": [
      "banana\n",
      "kiwi\n",
      "orange\n",
      "cherry\n",
      "apple\n"
     ]
    }
   ],
   "source": [
    "fruits=(\"apple\",\"banana\",\"kiwi\",\"cherry\",\"orange\")\n",
    "(green,yellow,green1,red,orange)=fruits\n",
    "print(yellow)\n",
    "print(green1)\n",
    "print(orange)\n",
    "print(red)\n",
    "print(green)"
   ]
  },
  {
   "cell_type": "markdown",
   "id": "0127e720",
   "metadata": {},
   "source": [
    "# Count and Index"
   ]
  },
  {
   "cell_type": "code",
   "execution_count": 11,
   "id": "b7e5b632",
   "metadata": {},
   "outputs": [
    {
     "name": "stdout",
     "output_type": "stream",
     "text": [
      "2\n",
      "1\n"
     ]
    }
   ],
   "source": [
    "s1=(\"monday\",1,3,4,6,True,\"monday\",False,0)  #True: 1,False:0\n",
    "print(s1.count(0))\n",
    "print(s1.count(4))"
   ]
  },
  {
   "cell_type": "code",
   "execution_count": null,
   "id": "f614883a",
   "metadata": {},
   "outputs": [],
   "source": []
  }
 ],
 "metadata": {
  "kernelspec": {
   "display_name": "Python 3 (ipykernel)",
   "language": "python",
   "name": "python3"
  },
  "language_info": {
   "codemirror_mode": {
    "name": "ipython",
    "version": 3
   },
   "file_extension": ".py",
   "mimetype": "text/x-python",
   "name": "python",
   "nbconvert_exporter": "python",
   "pygments_lexer": "ipython3",
   "version": "3.11.3"
  }
 },
 "nbformat": 4,
 "nbformat_minor": 5
}
